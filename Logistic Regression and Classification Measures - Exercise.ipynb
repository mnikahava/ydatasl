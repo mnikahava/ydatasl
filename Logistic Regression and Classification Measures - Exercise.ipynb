{
 "cells": [
  {
   "cell_type": "markdown",
   "metadata": {
    "colab_type": "text",
    "id": "zD4fRb3dGRaO"
   },
   "source": [
    "# Excerise - Logistic Regression and Classification Measures\n",
    "In this exercise you will explore how hard it is to find the best balance between TPR and FPR. \n",
    "\n",
    "Next, you will implement a logistic regression classifier using gradient decent.\n",
    "\n",
    "We will then turn to applying multi-class classifiers over the well known MNIST digits database, and analyse the results using a confusion matrix."
   ]
  },
  {
   "cell_type": "markdown",
   "metadata": {
    "colab_type": "text",
    "id": "i2p-7eGqNjrp"
   },
   "source": [
    "## Balancing TPR and FPR and interpretability of a classifier results given inbalance between classes\n",
    "After your yearly checkup, the doctor has bad news and good news. The bad news is that you tested positive for a serious disease, and that the test is 99% accurate (i.e. the probability of testing positive given that you have the disease is 0.99, as is the probability of testing negative given that you don’t have the disease). The good news is that this is a rare disease, striking only 1 in 10,000 people. \n",
    "\n",
    "1. What is the accuracy of always predicting a patient is healthy? Would that be a good strategy?\n",
    "\n",
    "2. What are the TPR and FPR of the chosen classifier in this case? Giving that there is a tradeoff between the two --- is it a good point on the ROC curve?\n",
    "\n",
    "3. Why is it good news that the disease is rare? What are the chances that you actually have the disease?\n",
    "\n",
    "4. Taking into account the previous answers, would you say the designer of the classifier made a good choice in this case?\n",
    "\n"
   ]
  },
  {
   "cell_type": "markdown",
   "metadata": {
    "colab_type": "text",
    "id": "cluKn7Rb2LDB"
   },
   "source": [
    "#### Answer 1\n",
    "Accuracy of always predicting a patient is healthy is 0.9999. Not a good strategy as model doesn't even try to distinguish between classes. In our case the prior of negative class is very small - so accuracy is misleading."
   ]
  },
  {
   "cell_type": "markdown",
   "metadata": {
    "colab_type": "text",
    "id": "lTLwPg6q3TEg"
   },
   "source": [
    "#### Answer 2\n",
    "Isn't description of accuracy above is TPR(probability of testing positive given that you have the disease) and TNR? Then they both equal to 0.99"
   ]
  },
  {
   "cell_type": "markdown",
   "metadata": {
    "colab_type": "text",
    "id": "mX39tM4K3UTB"
   },
   "source": [
    "#### Answer 3\n",
    "There is high false discovery rate as number of false positives is higher than number of true positives. Among 10000 tested 1 person is really sick and 9999*0.01=99.99 people are healthy but predicted to be sick. So probabiliity of being sick given positive test result is quite low: 1/(1+99.99)=0.009, less than 1%"
   ]
  },
  {
   "cell_type": "markdown",
   "metadata": {
    "colab_type": "text",
    "id": "tISo5Put6P-Q"
   },
   "source": [
    "#### Answer 4\n",
    "It depends on the cost of sending patient for additional test if he is false positive vs cost of late treatment in case of false negative."
   ]
  },
  {
   "cell_type": "markdown",
   "metadata": {
    "colab_type": "text",
    "id": "aJU3fUbuTzKm"
   },
   "source": [
    "## Implementing Logistic Regression Model\n",
    "Recall the loss function of the binary (Univariate) Logistic Regression model\n",
    "\n",
    "$$ J(\\beta)=-\\frac{1}{m}\\sum_{i=1}^{m}\\left(y^{(i)}\\log(h_\\beta(x^{(i)}))+(1-y^{(i)})\\log(1-h_\\beta(x^{(i)}))\\right) $$\n",
    "\n",
    "and the gradient decent update rule is given by\n",
    "\n",
    "$$ \\beta_j^t := \\beta_j^{t-1}-\\mu\\frac{\\partial}{\\partial \\beta_j}J(\\beta)\n",
    "$$\n",
    "\n",
    "1. Write the explicit (and rather simple) update rule for a gradient decent solver of the Logistic Regression model.\n",
    "2. Implement a LogisticRegression class with `fit`, `predict`, and `score` functions, and the constructor of the class should have the following parameters (feel free to add methods and parameters as you see fit):\n",
    "  * `method`: either `GD` or `SGD`, indiacting whether to use a regular gradient decent, or an [iterative stochastic gradient descent](https://en.wikipedia.org/wiki/Stochastic_gradient_descent#Iterative_method) respectively.\n",
    "  * `learning_rate`: the learning rate to be used\n",
    "  * `num_iterations`: number of iterations for the gradient decent algorithms (**note** that for stochastic gradient decent, each iteration is interpreted in that aspect as an epoch of going over all the samples, as it is computationaly similar to a single iteration of regular gradient decent)\n",
    "  * `track_loss`: a boolean stating if to track the loss of the model for each iteration during training; if `True` the model will have a `loss` vector with the loss that was claculated for each of the iterations.\n",
    "3. Use the provided code to load the Iris dataset as a toy example, on which we will compare the results of the two logistic regression solvers. Run both solvers (GD and SGD) for 1000 iterations, using a learning rate of 0.1, and compare the learning curve by plotting the loss during training. Describe the results, and plot the decision boundary for each of the models. What would you see if you plot the loss after each parameters update (for each sample in every epoch)?\n",
    " \n",
    " \n",
    "For simplicity, do not use regularization, and we will not try to find the best learning rate --- however, you are more than welcome to play with those on your own.\n"
   ]
  },
  {
   "cell_type": "markdown",
   "metadata": {
    "colab_type": "text",
    "id": "TQVMUZkQHlm2"
   },
   "source": [
    "## Classifying Digits\n",
    "In this part we will test digits classification on the MNIST dataset, using Multivariate Logistic Regression (a discriminative model). \n",
    "\n",
    "The MNIST dataset contains 28x28 grayscale images of handwritten digits between 0 and 9 (10 classes). For mathmatical analysis clarity, and for matching expected API, each image faltten to create a 1D array with 784 elements."
   ]
  },
  {
   "cell_type": "markdown",
   "metadata": {
    "colab_type": "text",
    "id": "Cjwjk6pzLE-y"
   },
   "source": [
    "### Loading the MNIST dataset\n",
    "Load the MNIST data set. The digits dataset is one of datasets scikit-learn comes with that do not require the downloading of any file from some external website. Use \n",
    ">```mnist = sklearn.datasets.fetch_mldata('MNIST original')```\n",
    "\n",
    "to fetch the original data. You may set the `data_home` to where you wish to download your data for caching. Each image is already transformed into a 1D integer array $x\\in [0,255]^{784}$, and the corresponding label is an integer $y\\in [0,9]$.\n",
    "\n",
    "Plot a single sample of each digit as the original image, so you get a feeling how the data looks like.\n",
    "\n",
    "Finally, divide your data into train and test sets, using 1/7 of the data for testing.\n",
    "\n",
    "---\n",
    "**Note:** Using `digits = sklearn.datasets.load_digits()` will only fetch a very small sample of the original set, with images resized to 8x8. This preprocessing of the data reduces dimensionality and gives invariance to small distortions - however, we will use the original data in this exercise. Feel free to test the proformance of the algorithms below on the preprocessed data as well.\n"
   ]
  },
  {
   "cell_type": "code",
   "execution_count": 2,
   "metadata": {},
   "outputs": [],
   "source": [
    "from sklearn import datasets\n",
    "mnist = datasets.fetch_mldata('MNIST original')"
   ]
  },
  {
   "cell_type": "code",
   "execution_count": 30,
   "metadata": {},
   "outputs": [
    {
     "data": {
      "image/png": "[encoded data removed]",
      "text/plain": [
       "<Figure size 669.6x432 with 10 Axes>"
      ]
     },
     "metadata": {},
     "output_type": "display_data"
    }
   ],
   "source": [
    "import numpy as np\n",
    "from matplotlib import pyplot as plt\n",
    "%matplotlib inline\n",
    "\n",
    "fig, axs = plt.subplots(nrows=2, ncols=5, figsize=(9.3, 6),\n",
    "                        subplot_kw={'xticks': [], 'yticks': []})\n",
    "\n",
    "fig.subplots_adjust(left=0.03, right=0.97, hspace=0.3, wspace=0.05)\n",
    "\n",
    "for ax, n in zip(axs.flat, np.unique(mnist.target)):\n",
    "    idx = np.where(mnist.target == n)[0][0]\n",
    "    digit = mnist.data[idx].reshape((28, 28))\n",
    "    \n",
    "    ax.imshow(digit, cmap='gray')\n",
    "    ax.set_title('{label}'.format(label=mnist.target[idx]))\n",
    "\n",
    "plt.tight_layout()\n",
    "\n",
    "plt.show()"
   ]
  },
  {
   "cell_type": "code",
   "execution_count": 33,
   "metadata": {},
   "outputs": [],
   "source": [
    "from sklearn.model_selection import train_test_split\n",
    "X_train, X_test, y_train, y_test = train_test_split(mnist.data, mnist.target, \n",
    "                                                    test_size=1/7, random_state=42, \n",
    "                                                    shuffle=True)"
   ]
  },
  {
   "cell_type": "markdown",
   "metadata": {
    "colab_type": "text",
    "id": "6Jv-ecdm6uTg"
   },
   "source": [
    "### Multivariate Logistic Regression\n",
    "We will now apply the Multivariate Logistic Regression model discriminative model for this problem. We will use a prepared implementation of the model, so you won't need to implement it.\n",
    "\n",
    "In this part we will keep the pixel values in grayscale, and assume the probability of each image being classified as one of the 10 digit classes, matches some multivariate logistic function."
   ]
  },
  {
   "cell_type": "markdown",
   "metadata": {
    "colab_type": "text",
    "id": "PU3K28Yu6uTh"
   },
   "source": [
    "#### Question 1\n",
    "Run a Multivariate Logitic Regression classifier on the training data and apply predictions on the test data. Use the [sklearn.linear_model.LogisticRegression](http://scikit-learn.org/stable/modules/generated/sklearn.linear_model.LogisticRegression.html) implementation, and set the `solver` to be `'lbfgs'`, and  `multi_class` to `'multinomial'` (leave all other parameters in their default value).\n",
    "\n",
    "1. Plot the confusion matrix of your classifier, as claculated on the test data (it is recommended to use [sklearn.metrics.confusion_matrix](http://scikit-learn.org/stable/modules/generated/sklearn.metrics.confusion_matrix.html)). Calculate the total accuracy (fraction of correctly classified images), and summarize the results in your own words.\n",
    "\n",
    "2. Show some test images which were missclassified (classified incorrectly). Choose one such sample, and output the probability estimates for all classes (use the `predict_proba` function). Describe the results.\n",
    "\n",
    "Note that here we cannot \"generate\" examples from the model."
   ]
  },
  {
   "cell_type": "markdown",
   "metadata": {
    "colab_type": "text",
    "id": "SEWJXu5BclVn"
   },
   "source": [
    "#### Answer 1\n",
    "Put you answer here..."
   ]
  },
  {
   "cell_type": "code",
   "execution_count": 38,
   "metadata": {
    "colab": {},
    "colab_type": "code",
    "id": "bNRDBGgyofrT"
   },
   "outputs": [
    {
     "data": {
      "text/plain": [
       "LogisticRegression(C=1.0, class_weight=None, dual=False, fit_intercept=True,\n",
       "          intercept_scaling=1, max_iter=100, multi_class='multinomial',\n",
       "          n_jobs=1, penalty='l2', random_state=42, solver='lbfgs',\n",
       "          tol=0.0001, verbose=0, warm_start=False)"
      ]
     },
     "execution_count": 38,
     "metadata": {},
     "output_type": "execute_result"
    }
   ],
   "source": [
    "from sklearn.linear_model import LogisticRegression\n",
    "from sklearn.metrics import confusion_matrix\n",
    "m = LogisticRegression(solver='lbfgs',multi_class='multinomial',random_state=42)\n",
    "m.fit(X_train,y_train)"
   ]
  },
  {
   "cell_type": "code",
   "execution_count": 42,
   "metadata": {},
   "outputs": [],
   "source": [
    "cm = confusion_matrix(y_test, m.predict(X_test), labels=np.unique(mnist.target))"
   ]
  },
  {
   "cell_type": "code",
   "execution_count": 47,
   "metadata": {},
   "outputs": [
    {
     "data": {
      "image/png": "[encoded data removed]",
      "text/plain": [
       "<Figure size 432x288 with 2 Axes>"
      ]
     },
     "metadata": {
      "needs_background": "light"
     },
     "output_type": "display_data"
    }
   ],
   "source": [
    "import seaborn as sns\n",
    "ax= plt.subplot()\n",
    "sns.heatmap(cm, annot=True, ax = ax, vmax=50)\n",
    "ax.set_xlabel('Predicted labels');ax.set_ylabel('True labels'); \n",
    "ax.set_title('Confusion Matrix'); \n",
    "ax.xaxis.set_ticklabels(np.unique(mnist.target)); ax.yaxis.set_ticklabels(np.unique(mnist.target));"
   ]
  },
  {
   "cell_type": "code",
   "execution_count": 50,
   "metadata": {},
   "outputs": [
    {
     "data": {
      "text/plain": [
       "0.923"
      ]
     },
     "execution_count": 50,
     "metadata": {},
     "output_type": "execute_result"
    }
   ],
   "source": [
    "from sklearn.metrics import accuracy_score\n",
    "accuracy_score(y_test, m.predict(X_test))"
   ]
  },
  {
   "cell_type": "code",
   "execution_count": 89,
   "metadata": {},
   "outputs": [],
   "source": [
    "result = np.array(list(zip(y_test, m.predict(X_test))))\n",
    "errors = np.where(result[:,0]!=result[:,1])[:10][0]"
   ]
  },
  {
   "cell_type": "code",
   "execution_count": 90,
   "metadata": {},
   "outputs": [
    {
     "data": {
      "image/png": "[encoded data removed]",
      "text/plain": [
       "<Figure size 669.6x432 with 10 Axes>"
      ]
     },
     "metadata": {},
     "output_type": "display_data"
    }
   ],
   "source": [
    "fig, axs = plt.subplots(nrows=2, ncols=5, figsize=(9.3, 6),\n",
    "                        subplot_kw={'xticks': [], 'yticks': []})\n",
    "\n",
    "fig.subplots_adjust(left=0.03, right=0.97, hspace=0.3, wspace=0.05)\n",
    "\n",
    "for ax, n in zip(axs.flat, errors):\n",
    "    digit = X_test[n].reshape((28, 28))\n",
    "    \n",
    "    ax.imshow(digit, cmap='gray')\n",
    "    ax.set_title('true = {true},\\n predicted = {pred}'.format(true=y_test[n],pred=m.predict([X_test[n]])[0]))\n",
    "\n",
    "plt.tight_layout()\n",
    "\n",
    "plt.show()"
   ]
  },
  {
   "cell_type": "code",
   "execution_count": 100,
   "metadata": {},
   "outputs": [
    {
     "name": "stdout",
     "output_type": "stream",
     "text": [
      "True label 9.0\n",
      "Predicted label 4.0\n"
     ]
    },
    {
     "data": {
      "text/plain": [
       "[(6.395834630645609e-07, 0.0),\n",
       " (7.749623259595775e-06, 1.0),\n",
       " (0.0007686635910661454, 2.0),\n",
       " (0.0014294249100885621, 3.0),\n",
       " (0.7118841794312488, 4.0),\n",
       " (0.0007206426016217284, 5.0),\n",
       " (4.80162984166144e-05, 6.0),\n",
       " (0.002848577941664299, 7.0),\n",
       " (0.037262746462412344, 8.0),\n",
       " (0.24502935955675875, 9.0)]"
      ]
     },
     "execution_count": 100,
     "metadata": {},
     "output_type": "execute_result"
    }
   ],
   "source": [
    "n = 9\n",
    "print(\"True label\",y_test[errors[n]])\n",
    "print(\"Predicted label\",m.predict([X_test[errors[n]]])[0])\n",
    "list(zip(m.predict_proba([X_test[errors[n]]])[0],m.classes_))"
   ]
  },
  {
   "cell_type": "markdown",
   "metadata": {
    "colab_type": "text",
    "id": "VNOTlRjZN9xW"
   },
   "source": [
    "#### Question 2\n",
    "Comparing two methods for solving multiclass classification problems: one-vs-rest (OvR), and multinomial.\n",
    "\n",
    "1. Discuss the results, and explain the plots in [Plot multinomial and One-vs-Rest Logistic Regression](https://scikit-learn.org/stable/auto_examples/linear_model/plot_logistic_multinomial.html).\n",
    "\n",
    "2. Create another Logistic Regression classifier, setting now `multi_class` to `'ovr'` (instead of `multinomial`). Leave all other parameters the same. Compare the accuracy of this model with the previous one model. \n",
    "\n",
    "\n"
   ]
  },
  {
   "cell_type": "markdown",
   "metadata": {
    "colab_type": "text",
    "id": "LspgymK47DMx"
   },
   "source": [
    "#### Answer 2\n",
    "Put you answer here..."
   ]
  },
  {
   "cell_type": "code",
   "execution_count": 103,
   "metadata": {
    "colab": {},
    "colab_type": "code",
    "id": "JOLKjDPk7DMy"
   },
   "outputs": [
    {
     "name": "stdout",
     "output_type": "stream",
     "text": [
      "Accuracy score : 0.923 (multinomial)\n",
      "Accuracy score : 0.9155 (ovr)\n"
     ]
    }
   ],
   "source": [
    "for multi_class in ('multinomial', 'ovr'):\n",
    "    m = LogisticRegression(solver='lbfgs',random_state=42,\n",
    "                             multi_class=multi_class).fit(X_train, y_train)    \n",
    "    print(\"Accuracy score : {score} ({multiclass})\".format(score = accuracy_score(y_test, m.predict(X_test)),multiclass = multi_class))\n"
   ]
  }
 ],
 "metadata": {
  "colab": {
   "collapsed_sections": [],
   "name": "Logistic Regression and Classification Measures - Exercise.ipynb",
   "provenance": [],
   "version": "0.3.2"
  },
  "kernelspec": {
   "display_name": "Python 3",
   "language": "python",
   "name": "python3"
  },
  "language_info": {
   "codemirror_mode": {
    "name": "ipython",
    "version": 3
   },
   "file_extension": ".py",
   "mimetype": "text/x-python",
   "name": "python",
   "nbconvert_exporter": "python",
   "pygments_lexer": "ipython3",
   "version": "3.7.0"
  }
 },
 "nbformat": 4,
 "nbformat_minor": 1
}
